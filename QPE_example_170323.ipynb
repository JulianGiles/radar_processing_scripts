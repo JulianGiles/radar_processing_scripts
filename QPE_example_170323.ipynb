{
 "cells": [
  {
   "cell_type": "markdown",
   "metadata": {},
   "source": [
    "**Input the date, radar, and the lowest bottom height of the ML for the investigated rain event and the used radar:**"
   ]
  },
  {
   "cell_type": "code",
   "execution_count": 1,
   "metadata": {},
   "outputs": [],
   "source": [
    "event_date = '20170719'\n",
    "radar_name = 'HNR'\n",
    "event_ml = 2600 # in m unit"
   ]
  },
  {
   "cell_type": "markdown",
   "metadata": {},
   "source": [
    "**Import**"
   ]
  },
  {
   "cell_type": "code",
   "execution_count": 2,
   "metadata": {},
   "outputs": [],
   "source": [
    "import matplotlib.pyplot as plt\n",
    "import xarray as xr\n",
    "import numpy as np\n",
    "import wradlib as wrl\n",
    "import warnings\n",
    "import os\n",
    "import scipy\n",
    "import math\n",
    "import RadarQC\n",
    "import att_cor_tools_jy\n",
    "from scipy.spatial import cKDTree as KDTree\n",
    "warnings.filterwarnings(\"ignore\")"
   ]
  },
  {
   "cell_type": "markdown",
   "metadata": {},
   "source": [
    "**Read data :**"
   ]
  },
  {
   "cell_type": "code",
   "execution_count": 3,
   "metadata": {},
   "outputs": [],
   "source": [
    "filename = os.path.join('%s_%s.nc' % (event_date,radar_name))\n",
    "dwd_root = xr.open_dataset(filename)\n",
    "dwd_sweep = xr.open_dataset(filename, group='sweep_1')\n",
    "zh = dwd_sweep.DBZH;\n",
    "zv = dwd_sweep.DBZV;\n",
    "zdr = dwd_sweep.ZDR;\n",
    "phidp = dwd_sweep.PHIDP; # should be already unfolded\n",
    "rhv = dwd_sweep.URHOHV;"
   ]
  },
  {
   "cell_type": "markdown",
   "metadata": {},
   "source": [
    "**Filter :**"
   ]
  },
  {
   "cell_type": "code",
   "execution_count": 4,
   "metadata": {},
   "outputs": [],
   "source": [
    "# bins with std(ΦDP) >= 20 within a moving window of 5 bins are removed\n",
    "phi_roll = phidp.rolling(range=5, center=True, min_periods=1)  \n",
    "phi_std = phi_roll.std(ddof=0)\n",
    "phidp = phidp.where((phi_std<20))"
   ]
  },
  {
   "cell_type": "code",
   "execution_count": 5,
   "metadata": {},
   "outputs": [],
   "source": [
    "# remove data with Z < 5 dBZ\n",
    "zh.values[zh.values<5] = np.nan\n",
    "\n",
    "# remove isolated data as the number of valid points from the neighboring 8 bins <= 3 \n",
    "# i.e, keep data if the number of valid points from the neighboring 8 bins > 4\n",
    "zh = zh.where((~np.isnan(zh)) & (zh.pipe(RadarQC.area_n)>4))\n",
    "phidp = phidp.where((~np.isnan(zh)) & (phidp.pipe(RadarQC.area_n)>4))\n",
    "\n",
    "# make valid point consistent for diff. variables\n",
    "zv = zv.where(~np.isnan(zh))\n",
    "zdr = zdr.where(~np.isnan(zh))"
   ]
  },
  {
   "cell_type": "markdown",
   "metadata": {},
   "source": [
    "**Patching data :**"
   ]
  },
  {
   "cell_type": "code",
   "execution_count": 6,
   "metadata": {},
   "outputs": [],
   "source": [
    "# fill the holes by the mean of the surrounding data if more than 4 out of 8 bins are valid (3 times)\n",
    "zh.values = RadarQC.patch(zh, 4, 3)   \n",
    "zv.values = RadarQC.patch(zv, 4, 3)   \n",
    "zdr.values = RadarQC.patch(zdr, 4, 3)   "
   ]
  },
  {
   "cell_type": "markdown",
   "metadata": {},
   "source": [
    "**Update the filtered and smoothed data in the xarray**"
   ]
  },
  {
   "cell_type": "code",
   "execution_count": 7,
   "metadata": {},
   "outputs": [],
   "source": [
    "dwd_sweep.DBZH.values = zh.values; dwd_sweep.DBZV.values = zv.values; dwd_sweep.ZDR.values = zdr.values;"
   ]
  },
  {
   "cell_type": "markdown",
   "metadata": {},
   "source": [
    "**RHV noise correction :**\n",
    "\n",
    "(Kai and Veli have another way to define NL, also can check with them)\n",
    "\n",
    "$\\begin{equation}\n",
    "SNR (dB) = Z (dB) -20log(distance) - nl (dB) \n",
    "\\tag{1}\n",
    "\\end{equation}$\n",
    "\n",
    "$\\begin{equation}\n",
    "RHV_{corr} = RHV_{obs}(1+1/snr) \n",
    "\\tag{2}\n",
    "\\end{equation}$"
   ]
  },
  {
   "cell_type": "code",
   "execution_count": 8,
   "metadata": {},
   "outputs": [
    {
     "name": "stdout",
     "output_type": "stream",
     "text": [
      "Noise level = [-35.8]\n"
     ]
    }
   ],
   "source": [
    "# continuously add an increment of 0.2 dB for noise level (nl) until the corrected rhv within the range (0.95, 1.01) occupy the largest proportion\n",
    "dis = zh.range.values/1000 # m -> km\n",
    "nl = np.linspace(-45,-30,76)\n",
    "ratio = np.zeros_like(nl)\n",
    "for ii in range(len(nl)):\n",
    "    snr_c = zh.values.copy()-20.*np.log10(dis[None,None,:])-nl[ii]\n",
    "    snr_l = 10**(0.1*snr_c) # dB -> linear\n",
    "    rhv_c = rhv.values.copy()*(1.+1/snr_l)\n",
    "    xx = rhv_c[(~np.isnan(snr_c)) & (~np.isnan(rhv_c))]\n",
    "    yy = xx[(xx<1.01) & (xx>0.95)]\n",
    "    ratio[ii] = len(yy)/len(xx)\n",
    "print('Noise level =',nl[np.where(ratio==max(ratio))])"
   ]
  },
  {
   "cell_type": "code",
   "execution_count": 9,
   "metadata": {},
   "outputs": [],
   "source": [
    "# noise correction using the above defined nl\n",
    "NOISE_LEVEL = nl[np.where(ratio==max(ratio))]\n",
    "snr_c = zh.values.copy()-20.*np.log10(dis[None,None,:])-NOISE_LEVEL\n",
    "snr_l = 10**(0.1*snr_c)\n",
    "rhv_c = rhv.values.copy()*(1.+1/snr_l)\n",
    "dwd_sweep = dwd_sweep.assign({'SNR_C': (['time', 'azimuth', 'range'], snr_c)})\n",
    "dwd_sweep = dwd_sweep.assign({'RHV_C': (['time', 'azimuth', 'range'], rhv_c)})\n",
    "snr_c = dwd_sweep.SNR_C\n",
    "rhv_c = dwd_sweep.RHV_C"
   ]
  },
  {
   "cell_type": "markdown",
   "metadata": {},
   "source": [
    "**ΦDP smoothing :**\n",
    "\n",
    "An iterative filtering technique for ΦDP following Hubbert and Bringi (1995) \n",
    "\n",
    "https://doi.org/10.1175/1520-0426(1995)012<0643:AIFTFT>2.0.CO;2\n",
    "\n",
    "When the difference between observation and its mean within a moving window of 17 bins > 1.25 times the standard deviation of the same window, ΦDP is replaced by the mean. \n",
    "\n",
    "This filtering is iterated 5 times.\n",
    "Then smoothed again by average with a moving window of 5 range bins "
   ]
  },
  {
   "cell_type": "code",
   "execution_count": 10,
   "metadata": {},
   "outputs": [],
   "source": [
    "phidp.values = RadarQC.smoother(phidp,zh,17,5,5,dim='range')  "
   ]
  },
  {
   "cell_type": "markdown",
   "metadata": {},
   "source": [
    "**Subtract ΦDP offset :**\n",
    "\n",
    "to get the total span of ΦDP"
   ]
  },
  {
   "cell_type": "code",
   "execution_count": 11,
   "metadata": {},
   "outputs": [],
   "source": [
    "# determine the offset (phii) by the median of the first-five valid data along each ray\n",
    "phidp_tmp = phidp.values.copy()\n",
    "phidp_tmp[rhv_c.values<0.9] = np.nan\n",
    "phii = np.median(RadarQC.shift_nan(phidp_tmp, np.nan, 2)[:,:,:5],axis = 2)\n",
    "phisys = np.nanmedian(phii,axis=0) # systematic offset (phisys) defined as the median of phii over the whole event for each ray\n",
    "\n",
    "# replace phii by phisys if their abs(diff.) > 5\n",
    "mm,nn = np.where((np.abs(phii-phisys)>5) | (np.isnan(phii)))\n",
    "phii[mm,nn] = phisys[nn] \n",
    "\n",
    "# subtract ΦDP offset to get dphi\n",
    "dphi = phidp.values-phii[:,:,None]\n",
    "\n",
    "# update dphi in the xarray\n",
    "dphi[np.isnan(zh.values)] = np.nan\n",
    "dwd_sweep.PHIDP.values = dphi\n",
    "phidp = dwd_sweep.PHIDP"
   ]
  },
  {
   "cell_type": "code",
   "execution_count": 12,
   "metadata": {},
   "outputs": [
    {
     "data": {
      "text/plain": [
       "[<matplotlib.lines.Line2D at 0x7f861af4f790>]"
      ]
     },
     "execution_count": 12,
     "metadata": {},
     "output_type": "execute_result"
    },
    {
     "data": {
      "image/png": "[encoded data removed]",
      "text/plain": [
       "<Figure size 432x288 with 1 Axes>"
      ]
     },
     "metadata": {
      "needs_background": "light"
     },
     "output_type": "display_data"
    }
   ],
   "source": [
    "plt.plot(phisys)"
   ]
  },
  {
   "cell_type": "markdown",
   "metadata": {},
   "source": [
    "Below the dotted line, the code lines are not implemented in POLARA (because I am not sure if it's worthy...)\n",
    "\n",
    "................................................................................................................................................................................................................................................................."
   ]
  },
  {
   "cell_type": "markdown",
   "metadata": {},
   "source": [
    "**ΦDP bump correction :** \n",
    "\n",
    "Fill the gap in the ΦDP field using a linear interpolation (temporary ΦDP used for detecting ΦDP bumps) :"
   ]
  },
  {
   "cell_type": "code",
   "execution_count": 13,
   "metadata": {},
   "outputs": [],
   "source": [
    "phi_tmp = phidp.copy()\n",
    "# set the first bin as 0 if it is invalid for interpolation\n",
    "mm,nn = np.where(np.isnan(phi_tmp.values[:,:,0])) \n",
    "phi_tmp.values[mm,nn,0] = 0\n",
    "\n",
    "phi_tmp = phi_tmp.interpolate_na(dim=\"range\", method=\"linear\")\n",
    "phi_tmp.values[np.isnan(zh.values)] = np.nan"
   ]
  },
  {
   "cell_type": "markdown",
   "metadata": {},
   "source": [
    "KDP calculation (temporary KDP used for detecting ΦDP bumps) : "
   ]
  },
  {
   "cell_type": "code",
   "execution_count": 14,
   "metadata": {},
   "outputs": [],
   "source": [
    "dr = 0.25 # radial resolution\n",
    "phidp_tmp, kdp_tmp = wrl.dp.process_raw_phidp_vulpiani(phi_tmp.values.copy(), dr, winlen=9) # window size as 9 bins, i.e., 2 km\n",
    "kdp_tmp[np.isnan(phi_tmp.values)] = np.nan"
   ]
  },
  {
   "cell_type": "markdown",
   "metadata": {},
   "source": [
    "Find ΦDP bump :"
   ]
  },
  {
   "cell_type": "code",
   "execution_count": 15,
   "metadata": {},
   "outputs": [],
   "source": [
    "# only perform below the ML\n",
    "zh_ml = zh.where((zh.z < event_ml)).values\n",
    "phi_ml = phi_tmp.where((zh.z < event_ml)).values"
   ]
  },
  {
   "cell_type": "code",
   "execution_count": 16,
   "metadata": {},
   "outputs": [],
   "source": [
    "# the interval compassing the segment with Z > 50 dBZ (HS) and negative KDP backside is regarded as the potential location of bump. \n",
    "# since those bumps always show a rapid increase of ΦDP in front, the start point of the interval is searched forward from the segment until ∆ΦDP between two consecutive bins < 1.5 \n",
    "# the endpoint is the last bin with a negative value of KDP extending behind the segment. \n",
    "\n",
    "[l,m,n] = np.shape(zh)\n",
    "bump_map = np.zeros((l,m,n))\n",
    "diff = np.zeros((l,m,n))\n",
    "diff[:,:,0:599] = np.diff(phi_ml, axis=2)\n",
    "\n",
    "for i in range(l):\n",
    "    for ii in range(m):\n",
    "        hotspots = list(att_cor_tools_jy.identify_hotspot(zh_ml[i,ii], rhv_c[i,ii].values, len_threshold=500.)) # find the bins with Z > 50 dBZ\n",
    "        hotspots = att_cor_tools_jy.repair_gapped_areas_jy(hotspots, zh_ml[i,ii], _threshold4repair_gap_max_range=5, _ret_missing_inds=[]) # concatenate HS if within 5 bins\n",
    "        \n",
    "        for j in range(len(hotspots)):\n",
    "            # the length of HS should > 5 bins\n",
    "            if ((len(hotspots[j])>=5) & (len(np.where(kdp_tmp[i,ii,hotspots[j]]<0)[0])>0)):\n",
    "                xx = np.where(kdp_tmp[i,ii,hotspots[j][0]:hotspots[j][-1]+20]<0)[0]  # end point: searched till 20 bins behind the last negative KDP in the HS\n",
    "                last_va = hotspots[j][0]+xx[-1] # end point\n",
    "                \n",
    "                if (hotspots[j][0]+xx[0]-len(xx)-15)>0: # start point: searched within 15 bins before the first bin of the HS\n",
    "                    sear_p = hotspots[j][0]+xx[0]-len(xx)-15 # fist search point\n",
    "                else:\n",
    "                    sear_p = 0 # if less than 15 bins before the HS, set sear_p = 0\n",
    "                    \n",
    "                yy = np.where(diff[i,ii,sear_p:hotspots[j][0]]>1.5)[0] # find the point of ∆ΦDP > 1.5             \n",
    "                if len(yy)>0: \n",
    "                    pre_va = sear_p+yy[0]+1  # start point\n",
    "                else:\n",
    "                    # if no bin with ∆ΦDP > 1.5, mark the first valid point as the start point\n",
    "                    intx = np.where(~np.isnan(phi_ml[i,ii,sear_p:last_va+1]))[0]\n",
    "                    pre_va = sear_p+intx[0]+1  #start point\n",
    "                    \n",
    "                    # give a new value from the nearest valid bin to the bin before the start point for interpolation \n",
    "                    pre_va_set = np.where(~np.isnan(phi_ml[i,ii,0:pre_va]))[0]\n",
    "                    # if no vlid point found, set it as 0\n",
    "                    if len(pre_va_set)<=1:\n",
    "                        phidp.values[i,ii,pre_va-1] = 0\n",
    "                    else:\n",
    "                        phidp.values[i,ii,pre_va-1] = phidp.values[i,ii,pre_va_set[-1]]\n",
    "         \n",
    "                # mark 1 as bump bins in the bump_map field\n",
    "                bump_map[i,ii,pre_va:last_va] = 1\n",
    "\n",
    "# data within this interval are removed    \n",
    "phidp.values[bump_map==1] = np.nan\n",
    "bump_map[np.isnan(zh_ml)] = np.nan"
   ]
  },
  {
   "cell_type": "markdown",
   "metadata": {},
   "source": [
    ".................................................................................................................................................................................................................................................................\n",
    "\n",
    "Above the dotted line, the code lines are not implemented in POLARA"
   ]
  },
  {
   "cell_type": "markdown",
   "metadata": {},
   "source": [
    "**Filling the bumps using a linear interpolation method :**"
   ]
  },
  {
   "cell_type": "code",
   "execution_count": 17,
   "metadata": {},
   "outputs": [],
   "source": [
    "mm,nn = np.where(np.isnan(phidp.values[:,:,0]))\n",
    "phidp.values[mm,nn,0] = 0\n",
    "phidp = phidp.interpolate_na(dim=\"range\", method=\"linear\")\n",
    "phidp.values[np.isnan(zh.values)] = np.nan\n",
    "dwd_sweep.PHIDP.values = phidp.values"
   ]
  },
  {
   "cell_type": "markdown",
   "metadata": {},
   "source": [
    "**Extract the data below BB :**"
   ]
  },
  {
   "cell_type": "code",
   "execution_count": 18,
   "metadata": {},
   "outputs": [],
   "source": [
    "rawzh_ml = zh.where((zh.z < event_ml)).values\n",
    "rawzv_ml = zv.where((zh.z < event_ml)).values\n",
    "rawzdr_ml = zdr.where((zh.z < event_ml)).values\n",
    "phi_ml = phidp.where((zh.z < event_ml)).values"
   ]
  },
  {
   "cell_type": "markdown",
   "metadata": {},
   "source": [
    "**First guess attenuation correction for Z below the ML (for alpha derivation):**"
   ]
  },
  {
   "cell_type": "code",
   "execution_count": 19,
   "metadata": {},
   "outputs": [],
   "source": [
    "alphah = 0.0927\n",
    "alphav = 0.0712\n",
    "belta = 0.021\n",
    "zh_qc1 = rawzh_ml.copy(); zv_qc1 = rawzv_ml.copy(); \n",
    "zh_qc1 = zh_qc1 + phi_ml*alphah\n",
    "zv_qc1 = zv_qc1 + phi_ml*alphav"
   ]
  },
  {
   "cell_type": "markdown",
   "metadata": {},
   "source": [
    "**Derive the total span of ΦDP for attenuation correction along the entire ray :**\n",
    "\n",
    "in this case, ∆ΦDP within the ML is multiplied by 3 for PIA calculation (phi_adj)"
   ]
  },
  {
   "cell_type": "code",
   "execution_count": 20,
   "metadata": {},
   "outputs": [],
   "source": [
    "# read the file storing the bottom and top height of the ML for each time step\n",
    "# it is different from the one you input at very beginning\n",
    "# it is more precise and can change with time\n",
    "ml = np.loadtxt('%s_%s_ml.txt' % (event_date, radar_name))\n",
    "ml_bt = ml[:,0]\n",
    "ml_tp = ml[:,1]"
   ]
  },
  {
   "cell_type": "code",
   "execution_count": 21,
   "metadata": {},
   "outputs": [],
   "source": [
    "# ∆ΦDP within the ML is multiplied by 3\n",
    "phi_bml = phidp.values.copy()\n",
    "phi_iml = phidp.values.copy()\n",
    "for i in range(0,l):\n",
    "    phi_bml[i,zh.z>ml_tp[i]] = np.nan # keep ΦDP data below the top of the ML\n",
    "    phi_iml[i,(zh.z>ml_tp[i]) | (zh.z<ml_bt[i])] = np.nan # keep ΦDP within the ML\n",
    "    \n",
    "phii_ml = np.median(RadarQC.shift_nan(phi_iml, np.nan, 2)[:,:,:5],axis = 2) # the first ΦDP value within the ML\n",
    "dphi_iml = phi_iml-phii_ml[:,:,None] # ∆ΦDP within the ML\n",
    "dphi_iml[(dphi_iml<0) | np.isnan((dphi_iml))] = 0 # set it as 0 if < 0\n",
    "phi_adj = phi_bml + dphi_iml*2 # 3 times ∆ΦDP within the ML\n",
    "\n",
    "for i in range(0,l):\n",
    "    phi_adj[i] = RadarQC.ffill(phi_adj[i]) # fill the gap\n",
    "phi_adj[(phi_adj<0) | (np.isnan(phi_adj))] = 0 # set it as 0 if < 0\n",
    "phi_adj[np.isnan(zh.values)] = np.nan"
   ]
  },
  {
   "cell_type": "markdown",
   "metadata": {},
   "source": [
    "**Attenuation correction for ZDR :**\n",
    "\n",
    "using phi_adj"
   ]
  },
  {
   "cell_type": "code",
   "execution_count": 22,
   "metadata": {},
   "outputs": [],
   "source": [
    "zdr_qc = zdr.values.copy()\n",
    "zdr_qc = zdr_qc+phi_adj*belta\n",
    "dwd_sweep = dwd_sweep.assign({'ZDR_att': (['time', 'azimuth', 'range'], zdr_qc)})\n",
    "zdr_qc = dwd_sweep.ZDR_att"
   ]
  },
  {
   "cell_type": "markdown",
   "metadata": {},
   "source": [
    "**Derive alpha for A estimates based on the ZDR slope with respect to ZH scan by scan :**\n",
    "\n",
    "ZDR slope is estimated by fitting a straight line to the median ZDR values derived for each 1 dBZ interval of ZH between 25 dBZ and 40 dBZ."
   ]
  },
  {
   "cell_type": "code",
   "execution_count": 23,
   "metadata": {},
   "outputs": [],
   "source": [
    "coeff_afah = np.zeros((l)); coeff_afav = np.zeros((l)); slope_h = np.zeros((l))\n",
    "stdz = np.zeros((l)); mz = np.zeros((l));\n",
    "stdzdr = np.zeros((l)); mzdr = np.zeros((l));\n",
    "zdr_tmp = []; zh_tmp = []; total_tmp = []\n",
    "\n",
    "# interval of ZH between 25 dBZ and 40 dBZ\n",
    "bins = np.linspace(25,40,16); t_bin = len(bins)-1; dt = bins[1]-bins[0]; midbin = bins[0:t_bin]+(dt/2)\n",
    "\n",
    "# set the threshold of the number of vaild points, default alpha values of 0.09 and 0.07 for two channels.\n",
    "thr_p = 20000; pafah_tmp = 0.09; pafav_tmp = 0.070; \n",
    "\n",
    "# to reduce resonance effects, ZDR is smoothed via averaging each bin with the neighboring 8 points\n",
    "zdr_ml_tmp = zdr_qc.pipe(RadarQC.area_mean)\n",
    "zdr_ml_tmp[np.isnan(zh_qc1)] = np.nan\n",
    "\n",
    "# when the previous scan uses alpha values derived from very tropical DSDs (see below), \n",
    "# id_s indicates if the default values for the current scan are applied or not depending on the conditions\n",
    "# applied for case (1), not applied for case (2) (see below)\n",
    "id_s = 1\n",
    "\n",
    "for i in range(l):\n",
    "    # Z below the ML\n",
    "    total_tmp = np.concatenate((zh_qc1[i,(~np.isnan(zdr_ml_tmp[i]))],total_tmp))\n",
    "    n_total = len(total_tmp) # the number of vaild points\n",
    "    \n",
    "    # data below the ML satisfing the conditions for deriving ZDR slope\n",
    "    # e.g., Z range and bins with ΦDP < 30 deg to reduce the uncertainties from attenuation\n",
    "    zdr_tmp = np.concatenate((zdr_ml_tmp[i,(~np.isnan(zdr_ml_tmp[i])) & (rhv_c.values[i]>=0.8) & (dphi[i]<30) & (zh_ml[i]>25) & (zh_ml[i]<40)],zdr_tmp))\n",
    "    zh_tmp = np.concatenate((zh_qc1[i,(~np.isnan(zdr_ml_tmp[i])) & (rhv_c.values[i]>=0.8) & (dphi[i]<30) & (zh_ml[i]>25) & (zh_ml[i]<40)],zh_tmp))\n",
    "  \n",
    "    # find the median ZDR for each Z interval\n",
    "    idh = np.digitize(zh_tmp,bins)\n",
    "    runmed_zdrh = np.asarray([np.nanmedian(zdr_tmp[idh==ii]) for ii in range(1,t_bin+1)])\n",
    "    \n",
    "    # only the medians derived with > 100 samples for each 1 dBZ interval are considered\n",
    "    h_n = np.asarray([len(idh[idh==ii])<100 for ii in range(1,t_bin+1)])\n",
    "    runmed_zdrh[np.array(np.where(h_n==1))] = np.nan\n",
    "    \n",
    "    # diff. of median ZDR between 2 intervals is used to identify any bump in the fitted points\n",
    "    diff = np.diff(runmed_zdrh)\n",
    "    neg_n = np.where(diff<0) # remove the point with negative diff.\n",
    "    runmed_zdrh[neg_n] = np.nan\n",
    "    \n",
    "    # calculate std and mean of Z and ZDR\n",
    "    # for ZDR, not all data are included because it is more sensentive to noise and attenuation bias\n",
    "    stdz[i] = np.nanstd(total_tmp);mz[i] = np.nanmean(total_tmp)\n",
    "    stdzdr[i] = np.nanstd(zdr_tmp);mzdr[i] = np.nanmean(zdr_tmp)\n",
    "\n",
    "    # if the previous scan uses the most-tropical alpha values due to case (1), the default setting of alphas for the current scan is 0.09 abd 0.07\n",
    "    if (pafah_tmp == 0.153) & (id_s==1):\n",
    "        pafah_tmp = 0.09\n",
    "        pafav_tmp = 0.07\n",
    "    coeff_afah[i] = pafah_tmp \n",
    "    coeff_afav[i] = pafav_tmp    \n",
    "    \n",
    "    # case (1)\n",
    "    # when one std of Z above its mean < 30 dBZ and one std of ZDR above its mean < 1.5 dB, alpha values of 0.153 and 0.147 are used (derived from very tropical DSDs)\n",
    "    if ((stdz[i]+mz[i])<30) & ((stdzdr[i]+mzdr[i])<1.5):  \n",
    "        id_s = 1\n",
    "        coeff_afah[i] = 0.153\n",
    "        pafah_tmp = coeff_afah[i]\n",
    "        coeff_afav[i] =  0.147\n",
    "        pafav_tmp = coeff_afav[i]\n",
    "        zdr_tmp = np.array([np.nan]); zh_tmp = np.array([np.nan]); total_tmp = np.array([np.nan]) # reset data\n",
    "        \n",
    "    # if not, alpha values are derived from the ZDR slope if more than 20000 valid data points are available, \n",
    "    # or else the data will be cumulated to the next time step.\n",
    "    else:\n",
    "        if (n_total>thr_p): \n",
    "            if (np.size(np.where(~np.isnan(runmed_zdrh)))>5): # check if the number of the valid points for fitting > 5\n",
    "                if (np.nanmax(np.where(~np.isnan(runmed_zdrh)))>5): # check if the max point for fitting > 30 dBZ\n",
    "                    # derive the slope\n",
    "                    pzh = np.polyfit(midbin[~np.isnan(runmed_zdrh)],runmed_zdrh[~np.isnan(runmed_zdrh)],1)            \n",
    "                    pzh_a = pzh[0].copy()\n",
    "                    \n",
    "                    # to guarantee slope's quality, the derived value is only counted when cc between the median ZDR and given ZH values > 0.95\n",
    "                    cc = np.ma.corrcoef(midbin[~np.isnan(runmed_zdrh)],runmed_zdrh[~np.isnan(runmed_zdrh)])[1][0]\n",
    "                    if (cc>0.95):\n",
    "                        # constraint the max and min of the slope value\n",
    "                        if pzh_a<0.035:\n",
    "                            pzh_a = 0.035  \n",
    "                        \n",
    "                        if pzh_a>0.08:\n",
    "                            pzh_a = 0.08 \n",
    "                            \n",
    "                        # derive alpha from the slolpe\n",
    "                        coeff_afah[i] = (1.35988403e+02*pzh_a**2-7.17206898*pzh_a+1.35553845e-01)/(1.57374450e+03*pzh_a**2-7.03093591e+01*pzh_a+1)\n",
    "                        pafah_tmp = coeff_afah[i]\n",
    "                        coeff_afav[i] = (8.39664278e+01*pzh_a**2-5.34880438*pzh_a+1.05100058e-01)/(1.12464668e+03*pzh_a**2-6.21384862e+01*pzh_a+1)                  \n",
    "                        pafav_tmp = coeff_afav[i]                          \n",
    "                        zdr_tmp = np.array([np.nan]); zh_tmp = np.array([np.nan]); total_tmp = np.array([np.nan]) #reset data\n",
    "               \n",
    "                # case(2)\n",
    "                # if the max point for fitting <= 30 dBZ, alpha values of 0.153 and 0.147 are used\n",
    "                elif (np.nanmax(np.where(~np.isnan(runmed_zdrh)))<=5):    \n",
    "                    id_s = 0\n",
    "                    coeff_afah[i] = 0.153\n",
    "                    pafah_tmp = coeff_afah[i]\n",
    "                    coeff_afav[i] = 0.147\n",
    "                    pafav_tmp = coeff_afav[i]            \n",
    "                    zdr_tmp = np.array([np.nan]); zh_tmp = np.array([np.nan]); total_tmp = np.array([np.nan]) #reset data"
   ]
  },
  {
   "cell_type": "markdown",
   "metadata": {},
   "source": [
    "**Final attenuation correction for Z :**"
   ]
  },
  {
   "cell_type": "code",
   "execution_count": 24,
   "metadata": {},
   "outputs": [],
   "source": [
    "zh_qc = zh.values.copy();zv_qc = zv.values.copy()\n",
    "phi_ml_tmp = phi_ml.copy()\n",
    "phi_ml_tmp[np.isnan(phi_ml_tmp)] = 0\n",
    "phi_iml_tmp = phi_iml.copy()\n",
    "phi_iml_tmp[np.isnan(phi_iml_tmp)] = 0\n",
    "zh_qc = zh_qc+phi_ml_tmp*coeff_afav[:,None,None]+(phi_iml_tmp+2*dphi_iml)*alphah # using scan-wise aplha below the ML and the average one above the ML\n",
    "zv_qc = zv_qc+phi_ml_tmp*coeff_afah[:,None,None]+(phi_iml_tmp+2*dphi_iml)*alphav\n",
    "dwd_sweep = dwd_sweep.assign({'ZH_att': (['time', 'azimuth', 'range'], zh_qc)})\n",
    "dwd_sweep = dwd_sweep.assign({'ZV_att': (['time', 'azimuth', 'range'], zv_qc)})\n",
    "zh_qc = dwd_sweep.ZH_att; zv_qc = dwd_sweep.ZV_att;"
   ]
  },
  {
   "cell_type": "markdown",
   "metadata": {},
   "source": [
    "**Final KDP calculation :**"
   ]
  },
  {
   "cell_type": "code",
   "execution_count": 25,
   "metadata": {},
   "outputs": [],
   "source": [
    "# two window sizes are applied for diff. Z intensities (40dBZ as a threshold)\n",
    "phidp_tmp, kdp_l = wrl.dp.process_raw_phidp_vulpiani(phidp.values.copy(), dr, winlen=9)\n",
    "phidp_tmp, kdp_h = wrl.dp.process_raw_phidp_vulpiani(phidp.values.copy(), dr, winlen=25)\n",
    "\n",
    "kdp = kdp_l.copy()\n",
    "kdp[zh_qc.values<40] = kdp_h[zh_qc.values<40]\n",
    "kdp[np.isnan(zh_qc.values)] = np.nan\n",
    "dwd_sweep = dwd_sweep.assign({'KDP': (['time', 'azimuth', 'range'], kdp)})\n",
    "kdp = dwd_sweep.KDP\n",
    "\n",
    "# smooth along the ray to mitigate discontinuities between KDP using diff. window sizes\n",
    "kdp_tmpp = RadarQC.smoother(kdp.copy(),zh,5,5,3,dim='range')"
   ]
  },
  {
   "cell_type": "code",
   "execution_count": 26,
   "metadata": {},
   "outputs": [],
   "source": [
    "# areal smoothing by averaging each bin with the neighboring points within 3 km\n",
    "nanid = np.where(np.isnan(zh_ml))\n",
    "xx = zh.x.values\n",
    "yy = zh.y.values\n",
    "points = np.c_[xx.ravel(), yy.ravel()]\n",
    "tree = KDTree(points)\n",
    "results = tree.query_ball_point(points, 3000) # create index the points to provide rapid neighbour look up\n",
    "\n",
    "kdp_mean = np.zeros((l,m*n))\n",
    "kdp_tmpp.values[kdp_tmpp.values<=0] = np.nan # in rain KDP shouhlde not be negative\n",
    "kdp_res = kdp_tmpp.values.reshape(l,m*n)\n",
    "\n",
    "for i in range(0,m*n):\n",
    "    kdp_mean[:,i] = np.nanmean(kdp_res[:,results[i]],axis=1)\n",
    "\n",
    "kdp.values = kdp_mean.reshape(l,m,n)\n",
    "kdp.values[nanid] = np.nan\n",
    "dwd_sweep.KDP.values = kdp.values"
   ]
  },
  {
   "cell_type": "markdown",
   "metadata": {},
   "source": [
    "**R(Z) :**"
   ]
  },
  {
   "cell_type": "code",
   "execution_count": 27,
   "metadata": {},
   "outputs": [],
   "source": [
    "rz = 0.052*(wrl.trafo.idecibel(zh_qc.values)**0.57)\n",
    "rz_hail = 0.022*(wrl.trafo.idecibel(zh_qc.values)**0.61) \n",
    "\n",
    "for i in range(0,l):\n",
    "    # additional factor 0.6 for the RZ relation is applied to the data within the ML idetified as wet snow (Z > 35dBZ)\n",
    "    rz[i,(zh.z>=ml_bt[i]) & (zh.z<=ml_tp[i]) & (zh_qc[i].values>35) & (rhv_c[i].values<0.97)] = \\\n",
    "    rz[i,(zh.z>=ml_bt[i]) & (zh.z<=ml_tp[i]) & (zh_qc[i].values>35) & (rhv_c[i].values<0.97)]*0.6\n",
    "    # additional factor 2.8 is applied to the data above the ML\n",
    "    rz[i,(zh.z>ml_tp[i])] = rz[i,(zh.z>ml_tp[i])]*2.8\n",
    "    # rz_hail is applied when the data below the ML with Z > 55 dBZ\n",
    "    rz[i,(zh.z<ml_bt[i]) & (zh_qc[i].values>55)] = rz_hail[i,(zh.z<ml_bt[i]) & (zh_qc[i].values>55)]\n",
    "\n",
    "dwd_sweep = dwd_sweep.assign({'RZ': (['time', 'azimuth', 'range'], rz)})\n",
    "dwd_sweep.RZ.values = RadarQC.patch(dwd_sweep.RZ, 4, 1)  \n",
    "rz = dwd_sweep.RZ"
   ]
  },
  {
   "cell_type": "markdown",
   "metadata": {},
   "source": [
    "**Extract the data below the ML :**"
   ]
  },
  {
   "cell_type": "code",
   "execution_count": 28,
   "metadata": {},
   "outputs": [],
   "source": [
    "zh_ml = zh_qc.where((zh.z < event_ml)).values\n",
    "zv_ml = zv_qc.where((zh.z < event_ml)).values\n",
    "zdr_ml = zdr_qc.where((zh.z < event_ml)).values\n",
    "kdp_ml = kdp.where((zh.z < event_ml)).values\n",
    "rz_ml = rz.where((zh.z < event_ml)).values"
   ]
  },
  {
   "cell_type": "markdown",
   "metadata": {},
   "source": [
    "**Find the total ΦDP for A estimates, i.e., exclude contributions from HS:**"
   ]
  },
  {
   "cell_type": "code",
   "execution_count": 29,
   "metadata": {},
   "outputs": [],
   "source": [
    "dphi_total = np.zeros((l,m))\n",
    "# total ΦDP defined as the median of the last 5 valid points\n",
    "for step in range(0,l):\n",
    "    for ray in range(0,m):\n",
    "        dphi_total[step, ray] = np.median(phi_ml[step, ray, ~np.isnan(phi_ml[step, ray])][-5:])   "
   ]
  },
  {
   "cell_type": "code",
   "execution_count": 30,
   "metadata": {},
   "outputs": [],
   "source": [
    "# find the contribution of ΦDP from the HS defined by the segment with Z > 50 dBZ (phi_hs)\n",
    "hotspot_map = np.zeros((l,m,n))\n",
    "zh50_id = np.zeros((l,m,n))\n",
    "diff = np.zeros((l,m,n))\n",
    "diff[:,:,0:599] = np.diff(phi_ml, axis=2)\n",
    "\n",
    "for i in range(l):\n",
    "    for ii in range(m):\n",
    "        hotspots = list(att_cor_tools_jy.identify_hotspot(zh_ml[i,ii], rhv_c[i,ii].values, len_threshold=500.)) # find the bins with Z > 50 dBZ \n",
    "        hotspots = att_cor_tools_jy.repair_gapped_areas_jy(hotspots, zh_ml[i,ii], _threshold4repair_gap_max_range=5, _ret_missing_inds=[]) # concatenate HS if within 5 bins\n",
    "        \n",
    "        xx = 0\n",
    "        for j in range(len(hotspots)):\n",
    "            #the length of HS should > 5 bins, else delete it\n",
    "            if ((len(hotspots[j-xx])<5)):\n",
    "                del hotspots[j-xx]\n",
    "                xx = xx+1               \n",
    "                \n",
    "        if len(hotspots)>0:\n",
    "            for j in range(len(hotspots)):\n",
    "                hotspot_map[i,ii,hotspots[j]] = hotspots[j]\n",
    "\n",
    "# mark the bin by 1 in zh50_id as HS, else by 0\n",
    "zh50_id[hotspot_map>0] = 1\n",
    "\n",
    "# derive ∆ΦDP within the HS by the sum of the diff(ΦDP) within the HS (phi_hs)\n",
    "diff[(zh_ml<50) & (zh50_id==0)] = 0\n",
    "phi_hs = np.nansum(diff, axis=2)\n",
    "# calculate ∆ΦDP within the HS from integral processed KDP (phik_hs)\n",
    "kdp_hs = kdp.copy().values\n",
    "kdp_hs[(zh_ml<50) & (zh50_id==0)] = 0\n",
    "phik_hs = np.nansum(kdp_hs*0.5,axis=2)\n",
    "# replace phi_hs by phik_hs if it is negative\n",
    "phi_hs[phi_hs<0] = phik_hs[phi_hs<0]\n",
    "# calculate the total ΦDP from KDP along the ray below the ML\n",
    "phik = np.nansum(kdp.values*0.5,axis=2)"
   ]
  },
  {
   "cell_type": "code",
   "execution_count": 31,
   "metadata": {},
   "outputs": [],
   "source": [
    "# calculate the total ΦDP from processed Z along the ray below the ML (zh_phi)\n",
    "zhk = 0.5*0.00016*wrl.trafo.idecibel(zh_ml)**0.83  # derive from KDP(Z) relation\n",
    "zh_phi = np.nansum(zhk,axis=2)\n",
    "# replace the total observed ΦDP by zh_phi if < 5 or zh_phi < 2\n",
    "mm, nn = np.where((dphi_total<5) | (zh_phi<2))\n",
    "dphi_total[mm,nn] = zh_phi[mm,nn]\n",
    "\n",
    "# if the total ΦDP <10, the value is smoothed by the mean of the four closest rays to mitigate jumps from one ray to the other\n",
    "# calculate the mean\n",
    "# need to connect the first and the last azimuth ray for averaging\n",
    "dphi_total_ex = np.zeros((l,m+8))\n",
    "dphi_total_ex[:,4:364] = dphi_total\n",
    "dphi_total_ex[:,0:4] = dphi_total[:,356:360]\n",
    "dphi_total_ex[:,364:368] = dphi_total[:,0:4]\n",
    "dphi_total_da = xr.DataArray(dphi_total_ex.copy(), dims=['time','azimuth'])\n",
    "dphi_total_tmp = RadarQC.smoother(dphi_total_da.copy(), dphi_total_da,5,5,3,dim='azimuth')[:,4:364]\n",
    "# replace the values\n",
    "dphi_total[(zh_phi>0.1) & (zh_phi<10)] = dphi_total_tmp.values[(zh_phi>0.1) & (zh_phi<10)]"
   ]
  },
  {
   "cell_type": "code",
   "execution_count": 32,
   "metadata": {},
   "outputs": [],
   "source": [
    "# subtract the ∆ΦDP from HS\n",
    "rainphi = dphi_total - phi_hs \n",
    "# if rainphi < 0, recalculate it via subtracting calculated ∆ΦDP (integral processed KDP) from dphi_total\n",
    "rainphi[rainphi<0] = dphi_total[rainphi<0] - phik_hs[rainphi<0]\n",
    "# if still negative, subtracting calculated ∆ΦDP (integral processed KDP) from also calculated total ΦDP along the ray below the ML\n",
    "rainphi[rainphi<0] = phik[rainphi<0] - phik_hs[rainphi<0]"
   ]
  },
  {
   "cell_type": "markdown",
   "metadata": {},
   "source": [
    "**Ah and Av estimates using the ZPHI method :**\n",
    "\n",
    "only below the ML and outside the HS\n",
    "\n",
    "https://doi.org/10.1175/JTECH-D-13-00038.1"
   ]
  },
  {
   "cell_type": "markdown",
   "metadata": {},
   "source": [
    "$\\begin{equation}\n",
    "PIA= \\Delta\\phi_{DP}\\alpha\n",
    "\\tag{3}\n",
    "\\end{equation}$\n",
    "\n",
    "$\\begin{equation}\n",
    "f\\Delta\\phi_{DP} = 10^{0.1 \\cdot b \\cdot PIA} - 1\n",
    "\\tag{4}\n",
    "\\end{equation}$\n",
    "\n",
    "$\\begin{equation}\n",
    "A_{H/V}(r) = \\frac{\\left [Z_a(r) \\right ]^b}{0.46b \\int_{r1}^{r2} \\left [Z_a(s) \\right ]^b ds /f(\\Delta \\phi_{DP})+ 0.46b \\int_{r}^{r2} \\left [Z_a(s) \\right ]^b ds}\n",
    "\\tag{5}\n",
    "\\end{equation}$"
   ]
  },
  {
   "cell_type": "code",
   "execution_count": 33,
   "metadata": {},
   "outputs": [],
   "source": [
    "z_thr = 50\n",
    "izha_c = np.zeros((l,m)); izva_c = np.zeros((l,m));\n",
    "\n",
    "# calculate PIA\n",
    "dpiah = rainphi*coeff_afah[:,None]\n",
    "dpiav = rainphi*coeff_afav[:,None]\n",
    "\n",
    "bh = 0.86\n",
    "bv = 0.87\n",
    "# calculate f∆ΦDP\n",
    "fdphih = 10**(0.1*bh*dpiah)-1\n",
    "fdphiv = 10**(0.1*bv*dpiav)-1\n",
    "\n",
    "# calculate linear reflectivity and ^b\n",
    "# the upper term of e.q.(5)\n",
    "zha = wrl.trafo.idecibel(rawzh_ml)**bh \n",
    "zva = wrl.trafo.idecibel(rawzv_ml)**bv \n",
    "\n",
    "# set masked to zero for integration\n",
    "zha[np.isnan(zha)] = 0\n",
    "zha[(zh_ml>=z_thr) | (zh50_id==1)] = 0\n",
    "zva[np.isnan(zva)] = 0\n",
    "zva[(zh_ml>=z_thr) | (zh50_id==1)] = 0 \n",
    "\n",
    "# calculate cumulative integral along the ray\n",
    "from scipy.integrate import cumtrapz\n",
    "r = np.kron(np.ones((l,m,1)),np.diff(zh.range/1000))\n",
    "izha_tmp = 0.46*bh*cumtrapz(zha, axis=2, initial=0, dx=r)\n",
    "izva_tmp = 0.46*bv*cumtrapz(zva, axis=2, initial=0, dx=r)\n",
    "\n",
    "# the first part of the first term on the bottom\n",
    "tia_h = np.max(izha_tmp, axis=2)\n",
    "tia_v = np.max(izva_tmp, axis=2)\n",
    "\n",
    "# subtract from ray max\n",
    "# i.e., the second term on the bottom\n",
    "izha = tia_h[:,:, None]-izha_tmp\n",
    "izha[np.isnan(rawzh_ml)] = np.nan\n",
    "izva = tia_v[:,:, None] - izva_tmp\n",
    "izva[np.isnan(rawzv_ml)] = np.nan\n",
    "\n",
    "# the first term on the bottom\n",
    "izha_c = tia_h/fdphih\n",
    "izva_c = tia_v/fdphiv \n",
    "\n",
    "# ah and av calculation\n",
    "ah = np.zeros_like(zha); av = np.zeros_like(zva);\n",
    "ah = zha/(izha_c[:, :, None]+izha)\n",
    "av = zva/(izva_c[:, :, None]+izva)\n",
    "dwd_sweep = dwd_sweep.assign({'AH': (['time', 'azimuth', 'range'], ah)})\n",
    "dwd_sweep = dwd_sweep.assign({'AV': (['time', 'azimuth', 'range'], av)})"
   ]
  },
  {
   "cell_type": "markdown",
   "metadata": {},
   "source": [
    "**R(A) and R(KDP) :** "
   ]
  },
  {
   "cell_type": "code",
   "execution_count": 34,
   "metadata": {},
   "outputs": [],
   "source": [
    "# those relations are derived based on the measured-DSD in Germany\n",
    "rkdp_df = 20.4*kdp_ml**0.75 \n",
    "rah_fix = 307*ah**0.92\n",
    "rav_fix = 452*av**0.98"
   ]
  },
  {
   "cell_type": "markdown",
   "metadata": {},
   "source": [
    "**Hybrid QPE :**\n",
    "\n",
    "for areas with attenuation-corrected Z below the ML >40 dBZ, and within the HS, R(KDP) is applied\n",
    "\n",
    "for areas where resulting rainfall retrieval is nan or 0 and R(Z) >0, R(Z) is applied"
   ]
  },
  {
   "cell_type": "code",
   "execution_count": 35,
   "metadata": {},
   "outputs": [],
   "source": [
    "z_thr = 40 \n",
    "thr_kdp = np.where(((zh_ml>=z_thr) | (zh50_id==1)) & (~np.isnan(kdp)))\n",
    "\n",
    "rr = rah_fix.copy()\n",
    "rr[thr_kdp] = rkdp_df[thr_kdp]\n",
    "rr[((rr==0) | (np.isnan(rr))) & (rz_ml>0)] = rz_ml[((rr==0) | (np.isnan(rr))) & (rz_ml>0)]\n",
    "dwd_sweep = dwd_sweep.assign({'RAHKDP': (['time', 'azimuth', 'range'], rr)})\n",
    "dwd_sweep.RAHKDP.values = RadarQC.patch(dwd_sweep.RAHKDP, 4, 1)  \n",
    "\n",
    "rr = rav_fix.copy()\n",
    "rr[thr_kdp] = rkdp_df[thr_kdp]\n",
    "rr[((rr==0) | (np.isnan(rr))) & (rz_ml>0)] = rz_ml[((rr==0) | (np.isnan(rr))) & (rz_ml>0)]\n",
    "dwd_sweep = dwd_sweep.assign({'RAVKDP': (['time', 'azimuth', 'range'], rr)})\n",
    "dwd_sweep.RAVKDP.values = RadarQC.patch(dwd_sweep.RAVKDP, 4, 1) \n",
    "\n",
    "rr = rz_ml.copy()\n",
    "rr[thr_kdp] = rkdp_df[thr_kdp]\n",
    "rr[:, zh.z.values >= event_ml] = rz.values[:, zh.z.values >= event_ml]\n",
    "dwd_sweep = dwd_sweep.assign({'RZKDP': (['time', 'azimuth', 'range'], rr)})\n",
    "dwd_sweep.RZKDP.values = RadarQC.patch(dwd_sweep.RZKDP, 4, 1) "
   ]
  },
  {
   "cell_type": "markdown",
   "metadata": {},
   "source": [
    "**Set nan as 0 :**"
   ]
  },
  {
   "cell_type": "code",
   "execution_count": 36,
   "metadata": {},
   "outputs": [],
   "source": [
    "dwd_sweep.RZ.values[np.isnan(dwd_sweep.RZ.values)] = 0\n",
    "dwd_sweep.RZ.values[:,:,-1] = np.nan # due to the coordinate transformation (see Composite.ipynb)\n",
    "dwd_sweep.RZKDP.values[(np.isnan(dwd_sweep.RZKDP.values)) & (zh.z.values < event_ml)] = 0\n",
    "dwd_sweep.RZKDP.values[:,:,-1] = np.nan # due to the coordinate transformation (see Composite.ipynb)\n",
    "dwd_sweep.RAHKDP.values[(np.isnan(dwd_sweep.RAHKDP.values)) & (zh.z.values < event_ml)] = 0\n",
    "dwd_sweep.RAVKDP.values[(np.isnan(dwd_sweep.RAVKDP.values)) & (zh.z.values < event_ml)] = 0"
   ]
  },
  {
   "cell_type": "markdown",
   "metadata": {},
   "source": [
    "**Combine R(A,KDP) below the ML and R(Z) above the ML :**\n",
    "\n",
    "To mitigate the discontinuity between two rainfall retrievals in the rain-field map, \n",
    "within a 15-km-wide transition zone from the lower bounds of the ML towards the radar, \n",
    "the results of R(Z) and the hybrid estimators R(AH/V,KDP) are averaged using inverse distance weighting (IDW)."
   ]
  },
  {
   "cell_type": "code",
   "execution_count": 44,
   "metadata": {},
   "outputs": [],
   "source": [
    "zone = 15000\n",
    "az = 360\n",
    "# to seperate radar observations into 3 parts: below , within and above the zone (z_map)\n",
    "x = dwd_sweep.RZ.range.where(dwd_sweep.RZ.z < event_ml)\n",
    "zone_out = np.nanmax(x,axis=0) # the range of the bottom height of the ML for each ray\n",
    "zone_in = zone_out-zone # the range of the first bin of the zone for each ray\n",
    "bin_range = dwd_sweep.RZ.range.values\n",
    "z_map = RadarQC.zone_area(zone_out,zone_in,bin_range,az) \n",
    "\n",
    "# weight calculation for average\n",
    "weight_r = RadarQC.weight(z_map,bin_range,az)\n",
    "\n",
    "# final averaged rain\n",
    "dwd_sweep.RAHKDP.values = RadarQC.weight_mean_R(dwd_sweep.RAHKDP, dwd_sweep.RZ, z_map, weight_r)\n",
    "dwd_sweep.RAVKDP.values = RadarQC.weight_mean_R(dwd_sweep.RAVKDP, dwd_sweep.RZ, z_map, weight_r)"
   ]
  },
  {
   "cell_type": "markdown",
   "metadata": {},
   "source": [
    "**Output data :**"
   ]
  },
  {
   "cell_type": "code",
   "execution_count": null,
   "metadata": {},
   "outputs": [],
   "source": [
    "dwd_root.to_netcdf(os.path.join('%s_%s_QPE.nc' % (event_date,radar_name)), mode='w')\n",
    "dwd_sweep[vars_name].to_netcdf(os.path.join('%s_%s_QPE.nc' % (event_date,radar_name)), mode='a', group='sweep_1')"
   ]
  }
 ],
 "metadata": {
  "kernelspec": {
   "display_name": "Python 3 (ipykernel)",
   "language": "python",
   "name": "python3"
  },
  "language_info": {
   "codemirror_mode": {
    "name": "ipython",
    "version": 3
   },
   "file_extension": ".py",
   "mimetype": "text/x-python",
   "name": "python",
   "nbconvert_exporter": "python",
   "pygments_lexer": "ipython3",
   "version": "3.11.4"
  }
 },
 "nbformat": 4,
 "nbformat_minor": 4
}
