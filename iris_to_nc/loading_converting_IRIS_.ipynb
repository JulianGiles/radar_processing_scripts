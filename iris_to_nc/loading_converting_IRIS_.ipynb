{
 "cells": [
  {
   "cell_type": "code",
   "execution_count": null,
   "id": "478d1652",
   "metadata": {},
   "outputs": [],
   "source": [
    "# NEEDS WRADLIB 1.19 !! \n",
    "\n",
    "import wradlib as wrl\n",
    "import numpy as np\n",
    "import sys\n",
    "import glob\n",
    "import xarray as xr\n",
    "import os\n",
    "import datetime as dt\n",
    "import pandas as pd\n",
    "from tqdm.notebook import trange, tqdm\n",
    "\n",
    "import warnings\n",
    "warnings.filterwarnings('ignore')\n",
    "import xradar as xd\n",
    "import datatree"
   ]
  },
  {
   "cell_type": "code",
   "execution_count": null,
   "id": "2c6b2181-2fe8-4f04-bcaf-6e1431335ce5",
   "metadata": {},
   "outputs": [],
   "source": [
    "import netCDF4\n",
    "import packaging"
   ]
  },
  {
   "cell_type": "code",
   "execution_count": null,
   "id": "33bd218d-2160-452d-95df-33cb7e3b2a89",
   "metadata": {},
   "outputs": [],
   "source": [
    "assert packaging.version.Version(netCDF4.__version__) <=  packaging.version.Version(\"1.6.0\")"
   ]
  },
  {
   "cell_type": "code",
   "execution_count": null,
   "id": "702796c8-ee34-4952-90b4-e5c7a69f44e3",
   "metadata": {},
   "outputs": [],
   "source": [
    "print(f\"xradar: {xd.__version__}\")\n",
    "print(f\"wradlib: {wrl.__version__}\")"
   ]
  },
  {
   "cell_type": "code",
   "execution_count": null,
   "id": "e60bc074-0a59-4059-ace4-57236b3074ba",
   "metadata": {},
   "outputs": [],
   "source": [
    "import time\n",
    "start_time = time.time()"
   ]
  },
  {
   "cell_type": "markdown",
   "id": "abcfc530-29ac-4f75-8e4e-36600a47f61c",
   "metadata": {},
   "source": [
    "# Read DWD file to retrieve encoding values"
   ]
  },
  {
   "cell_type": "code",
   "execution_count": null,
   "id": "a32f993a-9a58-42e7-b0bc-8760fe3596f8",
   "metadata": {},
   "outputs": [],
   "source": [
    "dwd = xr.open_dataset(\"/automount/ags/jgiles/turkey_test/ras07-vol5minng01_sweeph5onem_allmoms_00-2017072700005800-pro-10392-hd5\", group=\"sweep_0\")\n",
    "display(dwd)"
   ]
  },
  {
   "cell_type": "markdown",
   "id": "31865356-a4d7-4876-908e-7e1323f3189f",
   "metadata": {},
   "source": [
    "# tamper with encoding"
   ]
  },
  {
   "cell_type": "code",
   "execution_count": null,
   "id": "4729c646-e294-4ef0-a2fa-a111e2be9669",
   "metadata": {},
   "outputs": [],
   "source": [
    "drop = [\"szip\", \"zstd\", \"source\", \"chunksizes\", \"bzip2\", \"blosc\", \"shuffle\", \"fletcher32\", \"original_shape\", \"coordinates\", \"contiguous\"]\n",
    "dwd_enc = {k: {key: v.encoding[key] for key in v.encoding if key not in drop} for k, v in dwd.data_vars.items() if v.ndim == 3}\n",
    "dwd_enc[\"PHIDP\"] = dwd_enc[\"UPHIDP\"]\n",
    "dwd_enc[\"DBTH\"] = dwd_enc[\"TH\"]\n",
    "dwd_enc[\"DBTV\"] = dwd_enc[\"TV\"]\n",
    "dwd_enc\n"
   ]
  },
  {
   "cell_type": "markdown",
   "id": "d281c31e-e1c1-4600-ba48-a788bc958744",
   "metadata": {},
   "source": [
    "# Import and set Dask stuff"
   ]
  },
  {
   "cell_type": "code",
   "execution_count": null,
   "id": "eec8bc0b-1b43-4aa0-b226-2e61abab7e10",
   "metadata": {},
   "outputs": [],
   "source": [
    "import dask\n",
    "from dask.distributed import Client\n",
    "# not sure if this is needed\n",
    "client = Client(n_workers=8)\n",
    "client\n",
    "from dask.diagnostics import ProgressBar"
   ]
  },
  {
   "cell_type": "markdown",
   "id": "d3f90516-cae9-46d0-adc3-aebbdaeecb6d",
   "metadata": {},
   "source": [
    "# Get Files"
   ]
  },
  {
   "cell_type": "code",
   "execution_count": null,
   "id": "56302be1-9437-489b-8db1-8a09e68cec8f",
   "metadata": {},
   "outputs": [],
   "source": [
    "# Get all files for one day\n",
    "htypath = sorted(glob.glob(\"/automount/ags/jgiles/turkey_test/acq/OLDDATA/uza/RADAR/2017/07/27/HTY/RAW/*\"))\n"
   ]
  },
  {
   "cell_type": "code",
   "execution_count": null,
   "id": "1a319052-44d5-4586-a8ee-afbca868b7f1",
   "metadata": {},
   "outputs": [],
   "source": [
    "# Create a dataframe to store the metadata of all files and then select it more easily\n",
    "\n",
    "# Read attributes of files\n",
    "radarid = []\n",
    "dtime = []\n",
    "taskname = []\n",
    "elevation = []\n",
    "nrays_expected = []\n",
    "nrays_written = []\n",
    "nbins = []\n",
    "rlastbin = []\n",
    "binlength = []\n",
    "horbeamwidth = []\n",
    "fpath = []\n",
    "\n",
    "for f in htypath:\n",
    "    print(\".\", end=\"\")\n",
    "    # Read metadata\n",
    "    m = wrl.io.read_iris(f, loaddata=False, keep_old_sweep_data=True)\n",
    "    # Extract info\n",
    "    fname = os.path.basename(f).split(\".\")[0]\n",
    "    radarid_ = fname[0:3]\n",
    "    dtimestr = fname[3:]\n",
    "    dtime_ = dt.datetime.strptime(dtimestr, \"%y%m%d%H%M%S\")\n",
    "    taskname_ = m[\"product_hdr\"][\"product_configuration\"][\"task_name\"].strip()\n",
    "    nbins_ = m[\"nbins\"]\n",
    "    rlastbin_ = m[\"ingest_header\"][\"task_configuration\"][\"task_range_info\"][\"range_last_bin\"]/100\n",
    "    binlength_ = m[\"ingest_header\"][\"task_configuration\"][\"task_range_info\"][\"step_output_bins\"]/100\n",
    "    horbeamwidth_ = round(m[\"ingest_header\"][\"task_configuration\"][\"task_misc_info\"][\"horizontal_beam_width\"], 2)\n",
    "    for i in range(10):\n",
    "        try:\n",
    "            nrays_expected_ = m[\"data\"][i][\"ingest_data_hdrs\"][\"DB_DBZ\"][\"number_rays_file_expected\"]\n",
    "            nrays_written_ = m[\"data\"][i][\"ingest_data_hdrs\"][\"DB_DBZ\"][\"number_rays_file_written\"]    \n",
    "            elevation_ = round(m[\"data\"][i][\"ingest_data_hdrs\"][\"DB_DBZ\"][\"fixed_angle\"], 2)\n",
    "            break\n",
    "        except KeyError:\n",
    "            try:\n",
    "                nrays_expected_ = m[\"data\"][i][\"ingest_data_hdrs\"][\"DB_DBZ2\"][\"number_rays_file_expected\"]\n",
    "                nrays_written_ = m[\"data\"][i][\"ingest_data_hdrs\"][\"DB_DBZ2\"][\"number_rays_file_written\"]    \n",
    "                elevation_ = round(m[\"data\"][i][\"ingest_data_hdrs\"][\"DB_DBZ2\"][\"fixed_angle\"], 2)\n",
    "                break\n",
    "            except KeyError:\n",
    "                continue\n",
    "    # Append to list\n",
    "    radarid.append(radarid_)\n",
    "    dtime.append(dtime_)\n",
    "    taskname.append(taskname_)\n",
    "    elevation.append(elevation_)\n",
    "    nbins.append(nbins_)\n",
    "    rlastbin.append(rlastbin_)\n",
    "    binlength.append(binlength_)\n",
    "    #nrays_expected.append(nrays_expected_)\n",
    "    #nrays_written.append(nrays_written_)\n",
    "    fpath.append(f)\n",
    "    horbeamwidth.append(horbeamwidth_)   \n",
    "\n",
    "# put attributes in a dataframe\n",
    "from collections import OrderedDict\n",
    "df = pd.DataFrame(OrderedDict(\n",
    "                  {\"radarid\": radarid,\n",
    "                   \"datetime\": dtime,\n",
    "                   \"taskname\": taskname,\n",
    "                   \"elevation\": elevation,\n",
    "                   #\"nrays_expected\": nrays_expected,\n",
    "                   #\"nrays_written\": nrays_written,\n",
    "                   \"nbins\": nbins,\n",
    "                   \"rlastbin\": rlastbin,\n",
    "                   \"binlength\": binlength,\n",
    "                   \"horbeamwidth\": horbeamwidth,\n",
    "                   \"fpath\": fpath                   \n",
    "                  }))"
   ]
  },
  {
   "cell_type": "code",
   "execution_count": null,
   "id": "dbfd6e4b-fb25-448f-889e-029da2209dd2",
   "metadata": {},
   "outputs": [],
   "source": [
    "# Let's open one scanning mode and one elevation (this will take some minutes to load)\n",
    "mode = 'VOL_A'\n",
    "elev = 0.\n",
    "\n",
    "# Use the dataframe to get the paths that correspond to our selection\n",
    "paths = df[\"fpath\"].loc[df[\"elevation\"]==elev].loc[df[\"taskname\"]==mode]"
   ]
  },
  {
   "cell_type": "code",
   "execution_count": null,
   "id": "a3c3a496-bda4-4188-933f-4719373df901",
   "metadata": {},
   "outputs": [],
   "source": [
    "paths = sorted(list(paths))\n",
    "print(len(paths))\n"
   ]
  },
  {
   "cell_type": "markdown",
   "id": "bd266ad1-c6b9-477a-9684-b25cb4ed1d80",
   "metadata": {
    "tags": []
   },
   "source": [
    "# set engine"
   ]
  },
  {
   "cell_type": "code",
   "execution_count": null,
   "id": "a04efac0-1a73-4d03-93ad-e4738a93862a",
   "metadata": {},
   "outputs": [],
   "source": [
    "# engine = \"netcdf4\"\n",
    "engine = \"h5netcdf\""
   ]
  },
  {
   "cell_type": "markdown",
   "id": "ddae41e6-e0bf-469f-925b-5265d027a5b7",
   "metadata": {},
   "source": [
    "# Reading functions"
   ]
  },
  {
   "cell_type": "code",
   "execution_count": null,
   "id": "5be83890-286e-40bf-8b3d-8df89290c82e",
   "metadata": {},
   "outputs": [],
   "source": [
    "def read_single(f):\n",
    "    reindex = dict(start_angle=-0.5, stop_angle=360, angle_res=1., direction=1)\n",
    "    ds = xr.open_dataset(f, engine=\"iris\", group=\"sweep_0\", reindex_angle=reindex)\n",
    "    ds = ds.set_coords(\"sweep_mode\")\n",
    "    ds = ds.rename_vars(time=\"rtime\")\n",
    "    ds = ds.assign_coords(time=ds.rtime.min())\n",
    "    return ds\n"
   ]
  },
  {
   "cell_type": "code",
   "execution_count": null,
   "id": "3358ee7c-e467-475a-99d9-f4d1ce666906",
   "metadata": {},
   "outputs": [],
   "source": [
    "@dask.delayed\n",
    "def process_single(f, num, dest):\n",
    "    ds = read_single(f)\n",
    "    moments = [k for k,v in ds.variables.items() if v.ndim == 2]\n",
    "    new_enc = {k: dwd_enc[k] for k in moments if k in dwd_enc}\n",
    "    shape = ds[moments[0]].shape\n",
    "    enc_new = dict(chunksizes=(1, ) + shape[1:])\n",
    "    [new_enc[k].update(enc_new) for k in new_enc]\n",
    "    dest = f\"{dest}{num:03d}.nc\"\n",
    "    ds.to_netcdf(dest, engine=engine, encoding=new_enc)\n",
    "    return dest"
   ]
  },
  {
   "cell_type": "markdown",
   "id": "286af6b1-90f2-48d8-b804-c562198f81f3",
   "metadata": {},
   "source": [
    "# Convert Files in subfolder"
   ]
  },
  {
   "cell_type": "code",
   "execution_count": null,
   "id": "98097c0e-d8cf-4498-bb52-d5d7a69fb081",
   "metadata": {},
   "outputs": [],
   "source": [
    "%%time\n",
    "dest = \"turkey/test_\"\n",
    "results = []\n",
    "# fill dask compute pipeline\n",
    "for i, f in tqdm(enumerate(paths)):\n",
    "    results.append(client.compute(process_single(f, i, dest)))\n",
    "# compute pipeline\n",
    "# this returns, if all results are computed\n",
    "for res in results:\n",
    "    print(res.result())    "
   ]
  },
  {
   "cell_type": "markdown",
   "id": "31b96928-de7b-40af-a73d-4672da70a9dc",
   "metadata": {},
   "source": [
    "# Reload converted files"
   ]
  },
  {
   "cell_type": "code",
   "execution_count": null,
   "id": "80f630f9-e166-4a7e-b63b-77398fda896a",
   "metadata": {},
   "outputs": [],
   "source": [
    "%%time\n",
    "dsr = xr.open_mfdataset(f\"{dest}*\", concat_dim=\"time\", combine=\"nested\", engine=engine)\n",
    "display(dsr)"
   ]
  },
  {
   "cell_type": "markdown",
   "id": "7f30b875-e4db-4a6d-859e-2162410cc86d",
   "metadata": {},
   "source": [
    "# Fix encoding before write to single file"
   ]
  },
  {
   "cell_type": "code",
   "execution_count": null,
   "id": "b37f1c8d-c279-49e7-ac15-6dc3a55c897c",
   "metadata": {},
   "outputs": [],
   "source": [
    "moments = [k for k,v in dsr.variables.items() if v.ndim == 3]\n",
    "shape = dsr[moments[0]].shape\n",
    "enc_new= dict(chunksizes=(1, ) + shape[1:])\n",
    "\n",
    "drop = ['szip', 'zstd', 'bzip2', 'blosc', 'coordinates']\n",
    "enc = {k: {key: v.encoding[key] for key in v.encoding if key not in drop} for k, v in dsr.data_vars.items() if k in moments}\n",
    "[enc[k].update(enc_new) for k in moments if k not in [\"DB_HCLASS2\"]]\n",
    "del enc[\"DB_HCLASS2\"][\"chunksizes\"]\n",
    "encoding = {k: enc[k] for k in moments}\n",
    "print(encoding)"
   ]
  },
  {
   "cell_type": "markdown",
   "id": "e9d2784a-f2df-4291-bb0c-c5e68caa8212",
   "metadata": {},
   "source": [
    "# Write to single file"
   ]
  },
  {
   "cell_type": "code",
   "execution_count": null,
   "id": "e8e67631-1172-4286-a2f7-1484df93bfc4",
   "metadata": {},
   "outputs": [],
   "source": [
    "%%time\n",
    "dsr.to_netcdf(f\"iris-test-compressed-{engine}.nc\", engine=engine, encoding=encoding)"
   ]
  },
  {
   "cell_type": "code",
   "execution_count": null,
   "id": "89a1d9b4-141a-4132-aa23-81bd89020ba9",
   "metadata": {},
   "outputs": [],
   "source": [
    "print(\"--- %s seconds ---\" % (time.time() - start_time))"
   ]
  },
  {
   "cell_type": "code",
   "execution_count": null,
   "id": "e28062e2-d15f-4c9b-b6c3-d1b4715af112",
   "metadata": {},
   "outputs": [],
   "source": [
    "#!h5dump -HBvp iris-test-compressed-h5netcdf.nc"
   ]
  },
  {
   "cell_type": "code",
   "execution_count": null,
   "id": "f01fb3c4-3c66-4b15-a4b4-4eaddfe3f2eb",
   "metadata": {},
   "outputs": [],
   "source": []
  }
 ],
 "metadata": {
  "kernelspec": {
   "display_name": "Python 3 (ipykernel)",
   "language": "python",
   "name": "python3"
  },
  "language_info": {
   "codemirror_mode": {
    "name": "ipython",
    "version": 3
   },
   "file_extension": ".py",
   "mimetype": "text/x-python",
   "name": "python",
   "nbconvert_exporter": "python",
   "pygments_lexer": "ipython3",
   "version": "3.10.5"
  },
  "widgets": {
   "application/vnd.jupyter.widget-state+json": {
    "state": {},
    "version_major": 2,
    "version_minor": 0
   }
  }
 },
 "nbformat": 4,
 "nbformat_minor": 5
}
